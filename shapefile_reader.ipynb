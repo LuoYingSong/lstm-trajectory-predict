{
 "cells": [
  {
   "cell_type": "code",
   "execution_count": 1,
   "metadata": {},
   "outputs": [
    {
     "data": {
      "text/html": [
       "<div>\n",
       "<style scoped>\n",
       "    .dataframe tbody tr th:only-of-type {\n",
       "        vertical-align: middle;\n",
       "    }\n",
       "\n",
       "    .dataframe tbody tr th {\n",
       "        vertical-align: top;\n",
       "    }\n",
       "\n",
       "    .dataframe thead th {\n",
       "        text-align: right;\n",
       "    }\n",
       "</style>\n",
       "<table border=\"1\" class=\"dataframe\">\n",
       "  <thead>\n",
       "    <tr style=\"text-align: right;\">\n",
       "      <th></th>\n",
       "      <th>FID</th>\n",
       "      <th>FNODE</th>\n",
       "      <th>TNODE</th>\n",
       "      <th>LENGTH</th>\n",
       "      <th>NAME</th>\n",
       "      <th>POPNAME</th>\n",
       "      <th>DISTRICT</th>\n",
       "      <th>ATTRIBUTE</th>\n",
       "      <th>CODE</th>\n",
       "      <th>SPEED</th>\n",
       "      <th>LIMIT</th>\n",
       "      <th>TOLL</th>\n",
       "      <th>DOORPLATE</th>\n",
       "      <th>CNAME</th>\n",
       "      <th>ENAME</th>\n",
       "      <th>SOURCE</th>\n",
       "      <th>GUID</th>\n",
       "      <th>geometry</th>\n",
       "    </tr>\n",
       "  </thead>\n",
       "  <tbody>\n",
       "    <tr>\n",
       "      <td>0</td>\n",
       "      <td>97061115400002</td>\n",
       "      <td>97061116500001</td>\n",
       "      <td>97061114300002</td>\n",
       "      <td>2947.234</td>\n",
       "      <td>福泉高速公路</td>\n",
       "      <td>None</td>\n",
       "      <td>1350303000</td>\n",
       "      <td>011004410ZZ</td>\n",
       "      <td>G010,</td>\n",
       "      <td>None</td>\n",
       "      <td>None</td>\n",
       "      <td>None</td>\n",
       "      <td>None</td>\n",
       "      <td>None</td>\n",
       "      <td>None</td>\n",
       "      <td>0</td>\n",
       "      <td>011004410ZZ</td>\n",
       "      <td>LINESTRING Z (119.20644 25.48199 0.00000, 119....</td>\n",
       "    </tr>\n",
       "    <tr>\n",
       "      <td>1</td>\n",
       "      <td>97061115400001</td>\n",
       "      <td>97061114300003</td>\n",
       "      <td>97061116500002</td>\n",
       "      <td>3096.248</td>\n",
       "      <td>福泉高速公路</td>\n",
       "      <td>None</td>\n",
       "      <td>1350303000</td>\n",
       "      <td>011004410ZZ</td>\n",
       "      <td>G010,</td>\n",
       "      <td>None</td>\n",
       "      <td>None</td>\n",
       "      <td>None</td>\n",
       "      <td>None</td>\n",
       "      <td>None</td>\n",
       "      <td>None</td>\n",
       "      <td>0</td>\n",
       "      <td>011004410ZZ</td>\n",
       "      <td>LINESTRING Z (119.18079 25.46711 0.00000, 119....</td>\n",
       "    </tr>\n",
       "    <tr>\n",
       "      <td>2</td>\n",
       "      <td>97061117500005</td>\n",
       "      <td>97061117500004</td>\n",
       "      <td>97061117500001</td>\n",
       "      <td>9.945</td>\n",
       "      <td>None</td>\n",
       "      <td>None</td>\n",
       "      <td>1350303000</td>\n",
       "      <td>103012310ZZ</td>\n",
       "      <td>None</td>\n",
       "      <td>None</td>\n",
       "      <td>None</td>\n",
       "      <td>None</td>\n",
       "      <td>None</td>\n",
       "      <td>None</td>\n",
       "      <td>None</td>\n",
       "      <td>0</td>\n",
       "      <td>203012310ZZ</td>\n",
       "      <td>LINESTRING Z (119.20635 25.49481 0.00000, 119....</td>\n",
       "    </tr>\n",
       "    <tr>\n",
       "      <td>3</td>\n",
       "      <td>97061117500004</td>\n",
       "      <td>97061117500002</td>\n",
       "      <td>97061117500001</td>\n",
       "      <td>133.532</td>\n",
       "      <td>城涵大道</td>\n",
       "      <td>None</td>\n",
       "      <td>1350303000</td>\n",
       "      <td>111012310ZZ</td>\n",
       "      <td>G324/S201,</td>\n",
       "      <td>None</td>\n",
       "      <td>None</td>\n",
       "      <td>None</td>\n",
       "      <td>None</td>\n",
       "      <td>None</td>\n",
       "      <td>None</td>\n",
       "      <td>0</td>\n",
       "      <td>211012310ZZ</td>\n",
       "      <td>LINESTRING Z (119.20508 25.49514 0.00000, 119....</td>\n",
       "    </tr>\n",
       "    <tr>\n",
       "      <td>4</td>\n",
       "      <td>97061117500002</td>\n",
       "      <td>97061117500001</td>\n",
       "      <td>97061117500006</td>\n",
       "      <td>255.564</td>\n",
       "      <td>城涵大道</td>\n",
       "      <td>None</td>\n",
       "      <td>1350303000</td>\n",
       "      <td>111012310ZZ</td>\n",
       "      <td>G324/S201,</td>\n",
       "      <td>None</td>\n",
       "      <td>None</td>\n",
       "      <td>None</td>\n",
       "      <td>None</td>\n",
       "      <td>None</td>\n",
       "      <td>None</td>\n",
       "      <td>0</td>\n",
       "      <td>211012310ZZ</td>\n",
       "      <td>LINESTRING Z (119.20632 25.49472 0.00000, 119....</td>\n",
       "    </tr>\n",
       "  </tbody>\n",
       "</table>\n",
       "</div>"
      ],
      "text/plain": [
       "              FID           FNODE           TNODE    LENGTH    NAME POPNAME  \\\n",
       "0  97061115400002  97061116500001  97061114300002  2947.234  福泉高速公路    None   \n",
       "1  97061115400001  97061114300003  97061116500002  3096.248  福泉高速公路    None   \n",
       "2  97061117500005  97061117500004  97061117500001     9.945    None    None   \n",
       "3  97061117500004  97061117500002  97061117500001   133.532    城涵大道    None   \n",
       "4  97061117500002  97061117500001  97061117500006   255.564    城涵大道    None   \n",
       "\n",
       "     DISTRICT    ATTRIBUTE        CODE SPEED LIMIT  TOLL DOORPLATE CNAME  \\\n",
       "0  1350303000  011004410ZZ       G010,  None  None  None      None  None   \n",
       "1  1350303000  011004410ZZ       G010,  None  None  None      None  None   \n",
       "2  1350303000  103012310ZZ        None  None  None  None      None  None   \n",
       "3  1350303000  111012310ZZ  G324/S201,  None  None  None      None  None   \n",
       "4  1350303000  111012310ZZ  G324/S201,  None  None  None      None  None   \n",
       "\n",
       "  ENAME  SOURCE         GUID  \\\n",
       "0  None       0  011004410ZZ   \n",
       "1  None       0  011004410ZZ   \n",
       "2  None       0  203012310ZZ   \n",
       "3  None       0  211012310ZZ   \n",
       "4  None       0  211012310ZZ   \n",
       "\n",
       "                                            geometry  \n",
       "0  LINESTRING Z (119.20644 25.48199 0.00000, 119....  \n",
       "1  LINESTRING Z (119.18079 25.46711 0.00000, 119....  \n",
       "2  LINESTRING Z (119.20635 25.49481 0.00000, 119....  \n",
       "3  LINESTRING Z (119.20508 25.49514 0.00000, 119....  \n",
       "4  LINESTRING Z (119.20632 25.49472 0.00000, 119....  "
      ]
     },
     "execution_count": 1,
     "metadata": {},
     "output_type": "execute_result"
    }
   ],
   "source": [
    "import shapefile\n",
    "import geopandas\n",
    "from tqdm import tqdm\n",
    "file_path = '/media/luoyingsong/新加卷/GPS数据/fuzhou/Road/Road_polyline.shp'\n",
    "shp_df = geopandas.GeoDataFrame.from_file(file_path, encoding='gb18030')\n",
    "shp_df.head()  # 获取表头\n",
    "shp_df.plot()\n",
    "\n",
    "shp_df.head()"
   ]
  },
  {
   "cell_type": "code",
   "execution_count": 2,
   "metadata": {},
   "outputs": [
    {
     "data": {
      "text/plain": [
       "[(119.20644228500001, 25.48198689),\n",
       " (119.206316005, 25.481943),\n",
       " (119.20544499500001, 25.481634),\n",
       " (119.204573985, 25.481318010000003),\n",
       " (119.20370301, 25.48100199),\n",
       " (119.202840015, 25.480685010000002),\n",
       " (119.202350995, 25.48047999),\n",
       " (119.201860995, 25.480275990000003),\n",
       " (119.20112799, 25.47992799),\n",
       " (119.20030199, 25.479462990000002),\n",
       " (119.199484005, 25.47899799),\n",
       " (119.19879699, 25.478550000000002),\n",
       " (119.19804799, 25.47801501),\n",
       " (119.197489985, 25.47756201),\n",
       " (119.196932015, 25.47710799),\n",
       " (119.19646501, 25.47671001),\n",
       " (119.19600700000001, 25.476312),\n",
       " (119.195280995, 25.475679),\n",
       " (119.19456199, 25.475046990000003),\n",
       " (119.193835985, 25.474413990000002),\n",
       " (119.19311799500001, 25.47378099),\n",
       " (119.19239199, 25.47314901),\n",
       " (119.191672985, 25.472522010000002),\n",
       " (119.190863015, 25.47191901),\n",
       " (119.19006099, 25.47131799),\n",
       " (119.18915099, 25.47076599),\n",
       " (119.18856999, 25.47042399),\n",
       " (119.188049995, 25.47017301),\n",
       " (119.187538015, 25.469922),\n",
       " (119.18674201, 25.46957901),\n",
       " (119.185955, 25.46923701),\n",
       " (119.18510600500001, 25.46892999),\n",
       " (119.18425799, 25.46862201),\n",
       " (119.183478015, 25.468341000000002),\n",
       " (119.182698005, 25.468065),\n",
       " (119.182047985, 25.46783001)]"
      ]
     },
     "execution_count": 2,
     "metadata": {},
     "output_type": "execute_result"
    }
   ],
   "source": [
    "list(zip(shp_df['geometry'][0].xy[0],shp_df['geometry'][0].xy[1]))"
   ]
  },
  {
   "cell_type": "code",
   "execution_count": 3,
   "metadata": {},
   "outputs": [],
   "source": [
    "import os"
   ]
  },
  {
   "cell_type": "code",
   "execution_count": 5,
   "metadata": {},
   "outputs": [
    {
     "name": "stderr",
     "output_type": "stream",
     "text": [
      "100%|██████████| 8/8 [00:02<00:00,  2.88it/s]\n"
     ]
    }
   ],
   "source": [
    "data_dict = {}\n",
    "for dir_ in tqdm(os.listdir('fuzhou')):\n",
    "    for file in os.listdir('fuzhou/'+dir_):\n",
    "        if file.endswith('.shp'):\n",
    "            shp_df = geopandas.GeoDataFrame.from_file('fuzhou/{}/{}'.format(dir_, file), encoding='gb18030')\n",
    "            for i,street_line in enumerate(shp_df['geometry']):\n",
    "                try:\n",
    "                    line = list(zip(street_line.xy[0],street_line.xy[1]))\n",
    "                    data_dict[str(shp_df['FID'][i])] = line\n",
    "                except NotImplementedError:\n",
    "                    pass"
   ]
  },
  {
   "cell_type": "code",
   "execution_count": 21,
   "metadata": {},
   "outputs": [],
   "source": [
    "data_dict2 = dict(zip(map(lambda x:str(tuple(x[len(x)//2])),data_dict.values()),data_dict.values()))"
   ]
  },
  {
   "cell_type": "code",
   "execution_count": 22,
   "metadata": {},
   "outputs": [],
   "source": [
    "import json\n",
    "with open('roads_dict','w') as f:\n",
    "    json.dump(data_dict2,f)"
   ]
  },
  {
   "cell_type": "code",
   "execution_count": 23,
   "metadata": {},
   "outputs": [
    {
     "data": {
      "text/plain": [
       "11308"
      ]
     },
     "execution_count": 23,
     "metadata": {},
     "output_type": "execute_result"
    }
   ],
   "source": [
    "len(data_dict2)"
   ]
  },
  {
   "cell_type": "code",
   "execution_count": null,
   "metadata": {},
   "outputs": [],
   "source": []
  }
 ],
 "metadata": {
  "kernelspec": {
   "display_name": "Python 3",
   "language": "python",
   "name": "python3"
  },
  "language_info": {
   "codemirror_mode": {
    "name": "ipython",
    "version": 3
   },
   "file_extension": ".py",
   "mimetype": "text/x-python",
   "name": "python",
   "nbconvert_exporter": "python",
   "pygments_lexer": "ipython3",
   "version": "3.7.4"
  }
 },
 "nbformat": 4,
 "nbformat_minor": 2
}
