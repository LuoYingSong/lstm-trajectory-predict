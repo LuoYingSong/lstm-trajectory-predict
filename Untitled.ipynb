{
 "cells": [
  {
   "cell_type": "code",
   "execution_count": 1,
   "metadata": {},
   "outputs": [],
   "source": [
    "import tensorflow as tf\n",
    "# from data_sender import sender\n",
    "from my_util import hps\n",
    "from data_process import GET_DATA_COL_INDEX, MAP_SLICE, LINE_LENGTH\n",
    "import math\n",
    "import numpy as np\n",
    "import os"
   ]
  },
  {
   "cell_type": "code",
   "execution_count": 2,
   "metadata": {},
   "outputs": [],
   "source": [
    "INPUT_LENGTH = len(GET_DATA_COL_INDEX) #输入单个数值维度 2\n",
    "LINE_NUM = hps.num_timesteps  # 单个序列   含有点数值输入数 15\n",
    "NUM_BATCH = hps.batch_size  #单次喂入数值batch数 \n",
    "hiden_node = LINE_LENGTH * 2 #隐藏层数\n",
    "inputs = tf.placeholder(tf.float32, (NUM_BATCH, LINE_NUM, INPUT_LENGTH)) # batch, input_size 20 * input_line 必须要归一化\n",
    "outputs_x = tf.placeholder(tf.int32, (NUM_BATCH))\n",
    "# outputs_y = tf.placeholder(tf.float32, (inputs_size))\n",
    "keep_prob = tf.placeholder(tf.float32, name='keep_prob') #损失\n",
    "global_step = tf.Variable(\n",
    "    0, trainable=False\n",
    ")\n",
    "train_keep_prob_value = 0.8"
   ]
  },
  {
   "cell_type": "code",
   "execution_count": 3,
   "metadata": {},
   "outputs": [],
   "source": [
    "lstm_init = tf.zeros((NUM_BATCH, LINE_NUM, INPUT_LENGTH))\n",
    "cells = []"
   ]
  },
  {
   "cell_type": "code",
   "execution_count": 4,
   "metadata": {},
   "outputs": [],
   "source": [
    "_X = inputs"
   ]
  },
  {
   "cell_type": "code",
   "execution_count": 5,
   "metadata": {},
   "outputs": [],
   "source": [
    "for i in range(hps.num_lstm_layers): #rnn 构建\n",
    "    cell = tf.contrib.rnn.BasicLSTMCell(\n",
    "        hiden_node,\n",
    "        state_is_tuple=True,\n",
    "    )\n",
    "    cell = tf.contrib.rnn.DropoutWrapper(\n",
    "        cell,\n",
    "        output_keep_prob=keep_prob)\n",
    "    cells.append(cell)\n",
    "cell = tf.contrib.rnn.MultiRNNCell(cells)"
   ]
  },
  {
   "cell_type": "code",
   "execution_count": 6,
   "metadata": {},
   "outputs": [],
   "source": [
    "#rnn运行\n",
    "rnn_outputs, _ = tf.nn.dynamic_rnn(\n",
    "        cell,inputs=_X ,dtype=tf.float32,time_major=False\n",
    "    )\n",
    "output = tf.layers.dense(inputs=rnn_outputs[:, -1, :],units=MAP_SLICE)   "
   ]
  },
  {
   "cell_type": "code",
   "execution_count": 7,
   "metadata": {},
   "outputs": [],
   "source": [
    "loss = tf.nn.sparse_softmax_cross_entropy_with_logits(logits=output,labels=outputs_x)\n",
    "train_op = tf.train.AdamOptimizer(hps.learning_rate).minimize(loss)\n",
    "pred = tf.argmax(tf.nn.softmax(output),\n",
    "                   1,\n",
    "                   output_type=tf.int32)\n",
    "correct_pred = tf.equal(outputs_x, pred)\n",
    "accuracy = tf.reduce_mean(tf.cast(correct_pred, tf.float32))"
   ]
  },
  {
   "cell_type": "code",
   "execution_count": 8,
   "metadata": {},
   "outputs": [
    {
     "ename": "AttributeError",
     "evalue": "__enter__",
     "output_type": "error",
     "traceback": [
      "\u001b[1;31m---------------------------------------------------------------------------\u001b[0m",
      "\u001b[1;31mAttributeError\u001b[0m                            Traceback (most recent call last)",
      "\u001b[1;32m<ipython-input-8-475a6b652930>\u001b[0m in \u001b[0;36m<module>\u001b[1;34m\u001b[0m\n\u001b[1;32m----> 1\u001b[1;33m \u001b[1;32mwith\u001b[0m \u001b[0mtf\u001b[0m\u001b[1;33m.\u001b[0m\u001b[0mSession\u001b[0m \u001b[1;32mas\u001b[0m \u001b[0msess\u001b[0m\u001b[1;33m:\u001b[0m\u001b[1;33m\u001b[0m\u001b[0m\n\u001b[0m\u001b[0;32m      2\u001b[0m     \u001b[0minit\u001b[0m \u001b[1;33m=\u001b[0m \u001b[0mtf\u001b[0m\u001b[1;33m.\u001b[0m\u001b[0mglobal_variables_initializer\u001b[0m\u001b[1;33m(\u001b[0m\u001b[1;33m)\u001b[0m\u001b[1;33m\u001b[0m\u001b[0m\n\u001b[0;32m      3\u001b[0m     \u001b[0msess\u001b[0m\u001b[1;33m.\u001b[0m\u001b[0mrun\u001b[0m\u001b[1;33m(\u001b[0m\u001b[0minit\u001b[0m\u001b[1;33m)\u001b[0m\u001b[1;33m\u001b[0m\u001b[0m\n\u001b[0;32m      4\u001b[0m     \u001b[1;32mfor\u001b[0m \u001b[0mi\u001b[0m \u001b[1;32min\u001b[0m \u001b[0mrange\u001b[0m\u001b[1;33m(\u001b[0m\u001b[0mhps\u001b[0m\u001b[1;33m.\u001b[0m\u001b[0mtrainstep\u001b[0m\u001b[1;33m)\u001b[0m\u001b[1;33m:\u001b[0m\u001b[1;33m\u001b[0m\u001b[0m\n\u001b[0;32m      5\u001b[0m         batch_inputs, batch_labels_x, batch_inputs_y = sender.next_batch(\n",
      "\u001b[1;31mAttributeError\u001b[0m: __enter__"
     ]
    }
   ],
   "source": [
    "with tf.Session() as sess:\n",
    "    init = tf.global_variables_initializer()\n",
    "    sess.run(init)\n",
    "    for i in range(hps.trainstep):\n",
    "        batch_inputs, batch_labels_x, batch_inputs_y = sender.next_batch(\n",
    "            hps.batch_size)\n",
    "        outputs_val = sess.run([loss,train_op,pred,accuracy,train_op],feed_dict={\n",
    "            inputs:batch_inputs,outputs_x:batch_labels_x,keep_prob:train_keep_prob_value\n",
    "        })\n",
    "        if i % 20:\n",
    "            print(outputs_val[:3])\n",
    "        "
   ]
  },
  {
   "cell_type": "code",
   "execution_count": null,
   "metadata": {},
   "outputs": [],
   "source": []
  }
 ],
 "metadata": {
  "kernelspec": {
   "display_name": "Python 3",
   "language": "python",
   "name": "python3"
  },
  "language_info": {
   "codemirror_mode": {
    "name": "ipython",
    "version": 3
   },
   "file_extension": ".py",
   "mimetype": "text/x-python",
   "name": "python",
   "nbconvert_exporter": "python",
   "pygments_lexer": "ipython3",
   "version": "3.6.2"
  }
 },
 "nbformat": 4,
 "nbformat_minor": 2
}
