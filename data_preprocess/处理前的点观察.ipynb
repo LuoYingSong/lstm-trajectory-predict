{
 "cells": [
  {
   "cell_type": "code",
   "execution_count": 1,
   "metadata": {},
   "outputs": [],
   "source": [
    "import pandas as pd"
   ]
  },
  {
   "cell_type": "code",
   "execution_count": 2,
   "metadata": {},
   "outputs": [],
   "source": [
    "import json\n",
    "import numpy as np\n"
   ]
  },
  {
   "cell_type": "code",
   "execution_count": 3,
   "metadata": {},
   "outputs": [],
   "source": [
    "shower = [[119.274068 ,  26.041257 ],\n",
    "       [119.277308 ,  26.044747 ],\n",
    "       [119.279882 ,  26.0483   ],\n",
    "       [119.282322 ,  26.0517049],\n",
    "       [119.284257 ,  26.0544   ],\n",
    "       [119.286788 ,  26.05484  ],\n",
    "       [119.288757 ,  26.053082 ],\n",
    "       [119.291087 ,  26.050813 ],\n",
    "       [119.294447 ,  26.050145 ],\n",
    "       [119.297265 ,  26.050187 ],\n",
    "       [119.30082  ,  26.049387 ],\n",
    "       [119.30429  ,  26.051187 ],\n",
    "       [119.305578 ,  26.054113 ],\n",
    "       [119.307948 ,  26.055252 ],\n",
    "       [119.309243 ,  26.055465 ],\n",
    "       [119.310877 ,  26.055828 ]]"
   ]
  },
  {
   "cell_type": "code",
   "execution_count": null,
   "metadata": {},
   "outputs": [],
   "source": [
    "import plotly.graph_objs as go\n",
    "from plotly.offline import init_notebook_mode, iplot\n",
    "\n",
    "init_notebook_mode(connected='True')\n",
    "\n",
    "mapbox_access_token = \"pk.eyJ1IjoibHVveWluZ3NvbmciLCJhIjoiY2s0MHoyYnVjMDcxbzNtcWRnbzM2ZDQ3biJ9.iZTTzthDAif5c9z7Utfeug\"\n",
    "data = [\n",
    "    go.Scattermapbox(\n",
    "        lat=shower[:,1],\n",
    "        lon=shower[:,0],\n",
    "        mode='markers',\n",
    "        marker=dict(\n",
    "            size=4\n",
    "        ),\n",
    "        text=[\"The coffee bar\", \"Bistro Bohem\", \"Black Cat\",\n",
    "              \"Snap\", \"Columbia Heights Coffee\", \"Azi's Cafe\",\n",
    "              \"Blind Dog Cafe\", \"Le Caprice\", \"Filter\",\n",
    "              \"Peregrine\", \"Tryst\", \"The Coupe\",\n",
    "              \"Big Bear Cafe\"],\n",
    "    )\n",
    "]\n",
    "\n",
    "layout = go.Layout(\n",
    "    autosize=True,\n",
    "    hovermode='closest',\n",
    "    mapbox=dict(\n",
    "        accesstoken=mapbox_access_token,\n",
    "        bearing=0,\n",
    "        center=dict(\n",
    "            lat=26.080,\n",
    "            lon=119.414\n",
    "        ),\n",
    "        pitch=0,\n",
    "        zoom=10\n",
    "    ),\n",
    ")\n",
    "\n",
    "fig = dict(data=data, layout=layout)\n",
    "iplot(fig, filename='Multiple Mapbox')\n"
   ]
  }
 ],
 "metadata": {
  "kernelspec": {
   "display_name": "Python 3",
   "language": "python",
   "name": "python3"
  },
  "language_info": {
   "codemirror_mode": {
    "name": "ipython",
    "version": 3
   },
   "file_extension": ".py",
   "mimetype": "text/x-python",
   "name": "python",
   "nbconvert_exporter": "python",
   "pygments_lexer": "ipython3",
   "version": "3.7.6"
  }
 },
 "nbformat": 4,
 "nbformat_minor": 2
}