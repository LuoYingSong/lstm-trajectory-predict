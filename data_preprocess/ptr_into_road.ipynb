{
 "cells": [
  {
   "cell_type": "code",
   "execution_count": 1,
   "metadata": {},
   "outputs": [],
   "source": [
    "from numba import cuda,njit, types, typed\n",
    "import pandas as pd\n",
    "import numpy as np\n",
    "from tqdm import tqdm\n",
    "import numpy as np\n",
    "import math"
   ]
  },
  {
   "cell_type": "code",
   "execution_count": 2,
   "metadata": {},
   "outputs": [],
   "source": [
    "import json\n",
    "with open('../roads_dict3.json') as f:\n",
    "    road_data = json.load(f)"
   ]
  },
  {
   "cell_type": "code",
   "execution_count": 3,
   "metadata": {},
   "outputs": [],
   "source": [
    "with open('./processed_data/processed_data2.json') as f:\n",
    "    line_data = json.load(f)"
   ]
  },
  {
   "cell_type": "code",
   "execution_count": 4,
   "metadata": {
    "scrolled": true
   },
   "outputs": [
    {
     "data": {
      "text/plain": [
       "[[[119.279725, 26.07737],\n",
       "  [119.278915, 26.080015],\n",
       "  [119.27827, 26.082518],\n",
       "  [119.278243, 26.082715],\n",
       "  [119.277613, 26.085935],\n",
       "  [119.277358, 26.08976],\n",
       "  [119.27741, 26.093143],\n",
       "  [119.277602, 26.095508],\n",
       "  [119.276643, 26.100297],\n",
       "  [119.278622, 26.10405],\n",
       "  [119.282238, 26.106752]],\n",
       " [119.282238, 26.106752]]"
      ]
     },
     "execution_count": 4,
     "metadata": {},
     "output_type": "execute_result"
    }
   ],
   "source": [
    "line_data[0]"
   ]
  },
  {
   "cell_type": "code",
   "execution_count": 5,
   "metadata": {},
   "outputs": [],
   "source": [
    "# def computeDist(A,B):\n",
    "#     return np.sqrt(sum(np.power((A - B), 2)))    \n",
    "def computeDist(pt1, pt2):  \n",
    "    \"\"\" \n",
    "    计算两个数据点的距离 \n",
    "    return:pt1和pt2之间的距离 \n",
    "    \"\"\"  \n",
    "    sum = 0.0  \n",
    "    for i in range(len(pt1)):  \n",
    "        sum = sum + (pt1[i] - pt2[i]) * (pt1[i] - pt2[i])  \n",
    "    return math.sqrt(sum)  "
   ]
  },
  {
   "cell_type": "code",
   "execution_count": 6,
   "metadata": {},
   "outputs": [],
   "source": [
    "class KD_node:  \n",
    "    def __init__(self, point=None, split=None, LL = None, RR = None):  \n",
    "        \"\"\" \n",
    "        point:数据点 \n",
    "        split:划分域 \n",
    "        LL, RR:节点的左儿子跟右儿子 \n",
    "        \"\"\"  \n",
    "        self.point = point  \n",
    "        self.split = split  \n",
    "        self.left = LL  \n",
    "        self.right = RR  \n",
    "def createKDTree(root, data_list):  \n",
    "    \"\"\" \n",
    "    root:当前树的根节点 \n",
    "    data_list:数据点的集合(无序) \n",
    "    return:构造的KDTree的树根 \n",
    "    \"\"\"  \n",
    "    LEN = len(data_list)  \n",
    "    if LEN == 0:  \n",
    "        return  \n",
    "    #数据点的维度  \n",
    "    dimension = len(data_list[0])  \n",
    "    #方差  \n",
    "    max_var = 0  \n",
    "    #最后选择的划分域  \n",
    "    split = 0;  \n",
    "    for i in range(dimension):  \n",
    "        ll = []  \n",
    "        for t in data_list:  \n",
    "            ll.append(t[i])  \n",
    "        var = computeVariance(ll)  \n",
    "        if var > max_var:  \n",
    "            max_var = var  \n",
    "            split = i  \n",
    "    #根据划分域的数据对数据点进行排序  \n",
    "    data_list.sort(key=lambda x: x[split])  \n",
    "    #选择下标为len / 2的点作为分割点  \n",
    "    point = data_list[LEN // 2]  \n",
    "    root = KD_node(point, split)  \n",
    "    root.left = createKDTree(root.left, data_list[0:(LEN // 2)])  \n",
    "    root.right = createKDTree(root.right, data_list[(LEN // 2 + 1):LEN])  \n",
    "    return root  \n",
    "  \n"
   ]
  },
  {
   "cell_type": "code",
   "execution_count": 7,
   "metadata": {},
   "outputs": [],
   "source": [
    "def computeVariance(arrayList):  \n",
    "    \"\"\" \n",
    "    arrayList:存放的数据点 \n",
    "    return:返回数据点的方差 \n",
    "    \"\"\"  \n",
    "    for ele in arrayList:  \n",
    "        ele = float(ele)  \n",
    "    LEN = len(arrayList)  \n",
    "    array = numpy.array(arrayList)  \n",
    "    sum1 = array.sum()  \n",
    "    array2 = array * array  \n",
    "    sum2 = array2.sum()  \n",
    "    mean = sum1 / LEN  \n",
    "    #D[X] = E[x^2] - (E[x])^2  \n",
    "    variance = sum2 / LEN - mean**2  \n",
    "    return variance "
   ]
  },
  {
   "cell_type": "code",
   "execution_count": 8,
   "metadata": {},
   "outputs": [],
   "source": [
    "def findNN(root, query):  \n",
    "    \"\"\" \n",
    "    root:KDTree的树根 \n",
    "    query:查询点 \n",
    "    return:返回距离data最近的点NN，同时返回最短距离min_dist \n",
    "    \"\"\"  \n",
    "    #初始化为root的节点  \n",
    "    NN = root.point  \n",
    "    min_dist = computeDist(query, NN)  \n",
    "    nodeList = []  \n",
    "    temp_root = root  \n",
    "    ##二分查找建立路径  \n",
    "    while temp_root:  \n",
    "        nodeList.append(temp_root)  \n",
    "        dd = computeDist(query, temp_root.point)  \n",
    "        if min_dist > dd:  \n",
    "            NN = temp_root.point  \n",
    "            min_dist = dd  \n",
    "        #当前节点的划分域  \n",
    "        ss = temp_root.split  \n",
    "        if query[ss] <= temp_root.point[ss]:  \n",
    "            temp_root = temp_root.left  \n",
    "        else:  \n",
    "            temp_root = temp_root.right  \n",
    "    ##回溯查找  \n",
    "    while nodeList:  \n",
    "        #使用list模拟栈，后进先出  \n",
    "        back_point = nodeList.pop()  \n",
    "        ss = back_point.split  \n",
    "#         print (\"back.point = \", back_point.point  )\n",
    "        ##判断是否需要进入父亲节点的子空间进行搜索  \n",
    "        if abs(query[ss] - back_point.point[ss]) < min_dist:  \n",
    "            if query[ss] <= back_point.point[ss]:  \n",
    "                temp_root = back_point.right  \n",
    "            else:  \n",
    "                temp_root = back_point.left  \n",
    "  \n",
    "            if temp_root:  \n",
    "                nodeList.append(temp_root)  \n",
    "                curDist = computeDist(query, temp_root.point)  \n",
    "                if min_dist > curDist:  \n",
    "                    min_dist = curDist  \n",
    "                    NN = temp_root.point  \n",
    "    return NN, min_dist  \n"
   ]
  },
  {
   "cell_type": "code",
   "execution_count": 9,
   "metadata": {},
   "outputs": [],
   "source": [
    "root = KD_node()"
   ]
  },
  {
   "cell_type": "code",
   "execution_count": 10,
   "metadata": {},
   "outputs": [],
   "source": [
    "import numpy \n",
    "root = createKDTree(root,road_data)"
   ]
  },
  {
   "cell_type": "code",
   "execution_count": 11,
   "metadata": {},
   "outputs": [
    {
     "data": {
      "text/plain": [
       "([119.32657401, 26.07369501], 0.00019668462116161864)"
      ]
     },
     "execution_count": 11,
     "metadata": {},
     "output_type": "execute_result"
    }
   ],
   "source": [
    "findNN(root,[119.326755, 26.073772])"
   ]
  },
  {
   "cell_type": "code",
   "execution_count": 12,
   "metadata": {},
   "outputs": [
    {
     "name": "stderr",
     "output_type": "stream",
     "text": [
      "100%|██████████| 3802221/3802221 [19:37<00:00, 3229.25it/s] \n"
     ]
    }
   ],
   "source": [
    "saver = []\n",
    "for line,target in tqdm(line_data[:]):\n",
    "    row_list = []\n",
    "    new_line_data = []\n",
    "    for ptr in line:\n",
    "        new_line_data.append(findNN(root,ptr)[0])\n",
    "    row_list.append(new_line_data[:-1])\n",
    "    row_list.append(findNN(root,target)[0])\n",
    "    saver.append(row_list)"
   ]
  },
  {
   "cell_type": "code",
   "execution_count": 13,
   "metadata": {},
   "outputs": [
    {
     "name": "stderr",
     "output_type": "stream",
     "text": [
      "100%|██████████| 3802221/3802221 [00:01<00:00, 1957184.63it/s]\n"
     ]
    }
   ],
   "source": [
    "reshape = []\n",
    "for line,target in tqdm(saver[:]):\n",
    "    reshape += line\n",
    "    reshape += [target]"
   ]
  },
  {
   "cell_type": "code",
   "execution_count": 14,
   "metadata": {},
   "outputs": [
    {
     "data": {
      "text/plain": [
       "MinMaxScaler(copy=True, feature_range=(0, 1))"
      ]
     },
     "execution_count": 14,
     "metadata": {},
     "output_type": "execute_result"
    }
   ],
   "source": [
    "from sklearn.preprocessing import MinMaxScaler\n",
    "scaler = MinMaxScaler()\n",
    "scaler.fit(reshape)"
   ]
  },
  {
   "cell_type": "code",
   "execution_count": 15,
   "metadata": {},
   "outputs": [
    {
     "name": "stderr",
     "output_type": "stream",
     "text": [
      "100%|██████████| 3802221/3802221 [06:12<00:00, 10210.85it/s]\n"
     ]
    }
   ],
   "source": [
    "new_saver = []\n",
    "for line,target in tqdm(saver[:]):\n",
    "    alist = []\n",
    "    alist.append(scaler.transform(line).tolist())\n",
    "    alist.append(scaler.transform([target])[0].tolist())\n",
    "    new_saver.append(alist)"
   ]
  },
  {
   "cell_type": "code",
   "execution_count": 17,
   "metadata": {},
   "outputs": [],
   "source": [
    "with open('processed_data/step2_data.json','w') as f:\n",
    "    json.dump(new_saver,f)"
   ]
  },
  {
   "cell_type": "code",
   "execution_count": 18,
   "metadata": {},
   "outputs": [],
   "source": [
    "import pickle\n",
    "with open('../data_preprocess/scaler' ,'wb') as f:\n",
    "    scaler = pickle.dump(scaler,f)"
   ]
  },
  {
   "cell_type": "code",
   "execution_count": 23,
   "metadata": {},
   "outputs": [
    {
     "data": {
      "text/plain": [
       "[[[0.42722955411750263, 0.5890929897629746],\n",
       "  [0.42722955411750263, 0.5890929897629746],\n",
       "  [0.42722955411750263, 0.5890929897629746],\n",
       "  [0.4252370276706188, 0.5888461310905768],\n",
       "  [0.4196867449622914, 0.5876848124792104],\n",
       "  [0.4194998843555595, 0.5881870043111519],\n",
       "  [0.41883411177400376, 0.5880561205649428],\n",
       "  [0.41883411177400376, 0.5880561205649428],\n",
       "  [0.41883411177400376, 0.5880561205649428],\n",
       "  [0.4095875607461039, 0.5961122191590107]],\n",
       " [0.4165567209056462, 0.59860214903577]]"
      ]
     },
     "execution_count": 23,
     "metadata": {},
     "output_type": "execute_result"
    }
   ],
   "source": [
    "new_saver[110]"
   ]
  },
  {
   "cell_type": "code",
   "execution_count": null,
   "metadata": {},
   "outputs": [],
   "source": []
  }
 ],
 "metadata": {
  "kernelspec": {
   "display_name": "Python 3",
   "language": "python",
   "name": "python3"
  },
  "language_info": {
   "codemirror_mode": {
    "name": "ipython",
    "version": 3
   },
   "file_extension": ".py",
   "mimetype": "text/x-python",
   "name": "python",
   "nbconvert_exporter": "python",
   "pygments_lexer": "ipython3",
   "version": "3.7.4"
  }
 },
 "nbformat": 4,
 "nbformat_minor": 2
}
